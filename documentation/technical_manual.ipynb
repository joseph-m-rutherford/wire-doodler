{
 "cells": [
  {
   "cell_type": "markdown",
   "metadata": {},
   "source": [
    "# Wire-Doodler Technical Manual\n",
    "\n",
    "Copyright (c) 2023, Joseph M. Rutherford\n",
    "[joseph.m.rutherford@ieee.org](mailto:joseph.m.rutherford@ieee.org)\n",
    "\n",
    "This document is subject to the terms of the LICENSE file included here."
   ]
  },
  {
   "cell_type": "markdown",
   "metadata": {},
   "source": [
    "# Introduction\n",
    "\n",
    "## Background\n",
    "\n",
    "Wire antennas are a cost-effective and accessible means to transduce electrical signals into radiating fields for radio operators, especially amateur radio operators building antennas from readily available supplies.\n",
    "Accurate simulations aid in the design process before building virtually any system, including wire antennas.\n",
    "The Numerical Electromagnetics Code (NEC) has long served the electromagnetic (EM) modeling community with solutions to wire antenna problems, among other features [BurkeMillerPoggio2004].\n",
    "\n",
    "## Motivation\n",
    "\n",
    "Modeling the salient physics of cylindrical conductors is a particular challenge for the EM modeling community [Ludwig1995] [PetersonBibby2004].\n",
    "In the spirit of NEC, Wire-Doodler intends to provide a toolkit of analyzing the behavior of wire structures.\n",
    "In contrast to NEC, antenna elements will be modeled as 3D surfaces instead of using a specialized wire kernels.\n",
    "\n",
    "## Scope\n",
    "\n",
    "Compose a testbed for experimental methods of solving wire antenna problems.\n",
    "Supported geometry is restricted to 2D finite cross-sections extruded along 3D curves with transformations.\n",
    "Base case supported is cylinders (circles extruded along straight line segments) with hemispherical end caps.\n",
    "Joints at cylinder intersections are supported by embedding in a sphere of radius exceeding that of either cylinder.\n",
    "Frequency-domain antenna radiation via surface integral equation (SIE) formulations will be discretized for numerical solution using the Method of Moments (MoM) or Nystrom method.\n"
   ]
  },
  {
   "cell_type": "markdown",
   "metadata": {},
   "source": [
    "## Geometry\n",
    "\n",
    "All wires have a cylinder shape with a constant radius about the segment between the endpoints.\n",
    "\n",
    "## Cylinders\n",
    "\n",
    "Cylinders are circular cross-sectional areas extruded uniformly along an axis.\n",
    "The required inputs for a cylinder are an axial start point, a stop point, and a radius.\n",
    "\n",
    "### Cylinder Terminations\n",
    "\n",
    "Cylinders are not only the sidewalls with a constant 2D cross section extruded along the axis: they require end terminations.\n",
    "The termination of a cylinder will be done with clipped spheres.\n",
    "Terminations are implied geometry: the associated cylinders are shortened to account for the corrected object lengths with the added terminations.\n",
    "\n",
    "### Spheres\n",
    "\n",
    "On our spheres, radius $r$ will be assumed to be a constant.\n",
    "The azimuthal angle in the $uv$ plane is $0 \\leq \\phi < 2\\pi$.\n",
    "The zenithal angle away from $w$-axis is $0 \\leq \\theta \\leq \\pi$.\n",
    "Hemispheres here refer to the region of a sphere on either side of its local $w = 0$ plane: \"north\" means $w>0$, and \"south\" means $w<0$.\n",
    "\n",
    "### Single Cylinder Terminations: Singly-Clipped Sphere\n",
    "\n",
    "A single cylinder is terminated with a hemisphere of equal radius and aligned with the cylinder.\n",
    "This is a sphere clipped by the plane of the surface at the end of the cylinder.\n",
    "Each sphere will derive its local coordinate system from the cylinder.\n",
    "\n",
    "### Two-Cylinder Joints: Doubly-Clipped Sphere\n",
    "\n",
    "Where two noncollinear cylinders form a joint, each cylinder will terminate in a different hemisphere of the same sphere.\n",
    "The sphere will have an independent coordinate system: the local origin will be the point at which the two cylinders' axis-segments were to intersect, and its radius will be chosen to minimize size while giving each cylinder's end full coverage.\n",
    "The resulting sphere is doubly-clipped, once in each hemisphere."
   ]
  },
  {
   "cell_type": "markdown",
   "metadata": {},
   "source": [
    "## Governing Equations\n",
    "\n",
    "Composing a set of linear equations suitable for numerical solution is a non-trivial matter.\n",
    "To support low frequency analyses, we use a decoupled potentials method [Chew2014a].\n",
    "\n",
    "### Partial Differential Equations\n",
    "\n",
    "Following [Chew2014a, Eqs. (11)-(13)] we have:\n",
    "\n",
    "- $\\nabla \\cdot \\mathbf{A} = -\\mu \\epsilon \\partial_t \\Phi$ (Lorenz gauge),\n",
    "- $\\nabla^2 \\Phi - \\mu \\epsilon \\partial_t^2 \\Phi = -\\rho/\\epsilon$ (scalar potential wave equation), and \n",
    "- $\\nabla^2 \\mathbf{A} - \\mu \\epsilon \\partial_t^2 \\mathbf{A} = -\\mu \\mathbf{J}$ (vector potential wave equation).\n",
    "\n",
    "### Surface Integral Equations\n",
    "\n",
    "Following [Chew2014a, Eqs. (60) and (61)] for perfect electrical conductor (PEC):\n",
    "\n",
    "- $\\overline{\\mathbf{\\Gamma}}_{J,J} \\cdot \\mathbf{j} + \\overline{\\mathbf{\\Gamma}}_{J,\\sigma} \\cdot \\mathbf{s} = -\\mathbf{a}_\\mathrm{inc}$,\n",
    "- $\\overline{\\mathbf{\\Gamma}}_{\\sigma,J} \\cdot \\mathbf{j} + \\overline{\\mathbf{\\Gamma}}_{\\sigma,\\sigma} \\cdot \\mathbf{s} - \\overline{\\mathbf{B}} \\cdot \\mathbf{s} = -\\mathbf{\\sigma}_\\mathrm{inc}$.\n",
    "\n",
    "Vectors and operators are defined in keeping with [Chew2014a, Eqs. (62) - (69)].\n",
    "\n",
    "### Local Functions\n",
    "\n",
    "Physical quantities being expanded in basis functions are surface currents $\\mathbf{J}$ and $\\Sigma = \\hat{\\mathbf{n}} \\cdot \\mathbf{A}$ which functions in a role similar to that of a surface charge.\n",
    "The testing functions are in the space of the tangent vector potential $\\hat{t} \\cdot \\mathbf{A}$ and $\\Sigma$, respectively.\n",
    "This informs the choice of divergence-conforming tangential functions for the surface currents source- and tangential vector potential test-functions; the basis and test functions for the \"surface charge\" quantities are gradient-conforming surface functions.\n",
    "Every cylinder is traversed in two orthogonal local directions: axially in the local $z$-direction or azimuthally in the local $\\phi$-direction.\n",
    "Cylinder-joint and -end associated caps use zenithal sampling in the local $\\theta$-direction and azimuthally in the local $\\phi$-direction.\n",
    "\n",
    "- Azimuthal variations in all functions are captured using a scaling of $e^{i m \\phi}, m \\in \\mathbb{Z}$.\n",
    "- Axial variations in the function on a cylinder is characterized by linear interpolation between shared vertices for the flow of current.\n",
    "- Terminal cylinder ends are truncated at one radius-length from the end and capped with hemispheres.\n",
    "- Joints between non-parallel wires are filled with partial-sphere-wedge caps with constant zenithal current flows.\n",
    "\n",
    "This gives rise to the following source-observation surface function pairings:\n",
    "\n",
    "- cylinder-cylinder distant\n",
    "- cap-cap distant\n",
    "- cap-cylinder distant\n",
    "- cylinder-cylinder shared-edge\n",
    "- cap-cylinder shared-edge\n",
    "- cylinder-cylinder self-interaction\n",
    "- cap-cap self-interaction\n",
    "\n",
    "Vector (tangent) functions require consideration for both axial/zenithal and azimuthal vector directions.\n",
    "Scalar functions as well as interactions between scalar and vector functions must be considered for each of these."
   ]
  },
  {
   "cell_type": "markdown",
   "metadata": {},
   "source": [
    "# Discretization: Nyström Method\n",
    "\n",
    "Instead of discretizing finite element functions on the solid geometry or a meshed representation of it, we instead apply the Nyström method."
   ]
  },
  {
   "cell_type": "markdown",
   "metadata": {},
   "source": [
    "# Evaluating Solutions\n",
    "\n",
    "Given a complete definition of the PDEs and the boundary conditions, a unique solution may be obtained.\n",
    "Because we model the equivalent currents radiating into a homogeneous background medium, we solve a dense system of equations.\n",
    "Dense solution is viable for small problems, but fast approximate methods become necessary very quickly as unknown count in the solution increases.\n",
    "\n",
    "## Direct or Iterative Solvers\n",
    "\n",
    "Consider available options for solving\n",
    "\n",
    "## Characteristic Mode Analysis (CMA)\n",
    "\n",
    "Explore implications of applying CMA."
   ]
  },
  {
   "cell_type": "markdown",
   "metadata": {},
   "source": [
    "# References\n",
    "\n",
    "- [BurkeMillerPoggio2004](https://ieeexplore.ieee.org/document/1331976) G. J. Burke, E. K. Miller and A. J. Poggio, \"The Numerical Electromagnetics Code (NEC) - a brief history,\" IEEE Antennas and Propagation Society Symposium, 2004., Monterey, CA, USA, 2004, pp. 2871-2874 Vol.3, doi: 10.1109/APS.2004.1331976.\n",
    "- [Chew2014](https://www.jpier.org/issues/volume.html?paper=14060904) W. C. Chew, \"Vector Potential Electromagnetics with Generalized Gauge for Inhomogeneous Media: Formulation (Invited Paper),\" _Progress In Electromagnetics Research_, Vol. 149, pp. 69-84, 2014. doi:10.2528/PIER14060904.\n",
    "- [Ludwig1995](https://ieeexplore.ieee.org/document/391146) A. C. Ludwig, \"A failure of a numerical electromagnetics code to match a simple boundary condition,\" in IEEE Transactions on Antennas and Propagation, vol. 43, no. 7, pp. 723-727, July 1995, doi: 10.1109/8.391146.\n",
    "- [PetersonBibby2004](https://www.jpier.org/issues/volume.html?paper=14060904) A. F. Peterson and M. M. Bibby, \"High-order numerical solutions of the MFIE for the linear dipole,\" in IEEE Transactions on Antennas and Propagation, vol. 52, no. 10, pp. 2684-2691, Oct. 2004, doi: 10.1109/TAP.2004.834407.\n"
   ]
  },
  {
   "cell_type": "markdown",
   "metadata": {},
   "source": []
  }
 ],
 "metadata": {
  "kernelspec": {
   "display_name": "base",
   "language": "python",
   "name": "python3"
  },
  "language_info": {
   "name": "python",
   "version": "3.9.16"
  },
  "orig_nbformat": 4
 },
 "nbformat": 4,
 "nbformat_minor": 2
}
